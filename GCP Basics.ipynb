{
 "cells": [
  {
   "cell_type": "markdown",
   "id": "7ff7842d",
   "metadata": {},
   "source": [
    "# What Is Cloud Computing?"
   ]
  },
  {
   "cell_type": "markdown",
   "id": "e5f26336",
   "metadata": {},
   "source": [
    "In simple words, It is accessing and storing data over the Internet instead of doing it on your personal hard drive.\n",
    "It offers services like storage, database, networking, and moreover the Internet to provide faster, innovative, and flexible resources to its customers. The customers get to pay only for the resources they use, hence helping them lower their operating costs and run their business infrastructure more efficiently."
   ]
  },
  {
   "cell_type": "markdown",
   "id": "3e13995f",
   "metadata": {},
   "source": [
    "# What Is Google Cloud Platform(GCP)?"
   ]
  },
  {
   "cell_type": "markdown",
   "id": "fc9cf1c6",
   "metadata": {},
   "source": [
    "Google Cloud is a suite of Cloud Computing services offered by Google. The platform provides various services like compute, storage, networking,Big Data and many more that run on the same infrastructure that Google uses internally for its end users like Google Search and YouTube."
   ]
  },
  {
   "cell_type": "markdown",
   "id": "5c1487f2",
   "metadata": {},
   "source": [
    "# Google Cloud Services"
   ]
  },
  {
   "cell_type": "markdown",
   "id": "613eafa1",
   "metadata": {},
   "source": [
    "Google Cloud has been expanding across the globe. The reason is the wide array of services it offers to its users:\n",
    "* Google Cloud Compute Services\n",
    "* Google Cloud Storage Services\n",
    "* Networking\n",
    "* Big Data Services\n",
    "* Management Tools\n",
    "* Identity and Security\n",
    "* Cloud Artificial Intelligence(ML/DL)\n",
    "\n",
    "\n",
    "Let’s get a brief information on each:\n"
   ]
  },
  {
   "cell_type": "markdown",
   "id": "ace1ed5e",
   "metadata": {},
   "source": [
    "### Compute Services"
   ]
  },
  {
   "cell_type": "markdown",
   "id": "f4eb9557",
   "metadata": {},
   "source": [
    "* `Google App Engine:` Platform as a Service to deploy Java, PHP, and other applications. It is a Cloud Computing platform for developing and hosting web applications in Google-managed data centers. It offers the automatic scaling feature, i.e., as the number of requests for an application increases, the App Engine automatically allocates more resources for the application to handle additional demand.\n",
    "\n",
    "\n",
    "* `Compute Engine:` Infrastructure as a Service to run Microsoft Windows and Linux Virtual Machines. It is a component of the Google Cloud platform which is built on the same infrastructure that runs Google’s search engine, YouTube, and other services.\n",
    "\n",
    "\n",
    "* `Kubernetes Engine:` It aims at providing a platform for automating deployment, scaling, and operations of application containers across clusters of hosts. It works with a wide range of container tools including docker."
   ]
  },
  {
   "cell_type": "markdown",
   "id": "06af46e6",
   "metadata": {},
   "source": [
    "### Storage Services"
   ]
  },
  {
   "cell_type": "markdown",
   "id": "7ce3bd92",
   "metadata": {},
   "source": [
    "* `Google Cloud Storage:` An online file storage web service for storing and accessing data on a Google Cloud platform infrastructure. The service combines the performance and scalability of Google Cloud with advanced security and sharing capabilities.\n",
    "\n",
    "\n",
    "* `Cloud SQL:` A web service that allows you to create, configure, and use relational databases that live in Google Cloud. It maintains, manages, and administers your databases allowing you to focus on your applications and services.\n",
    "\n",
    "\n",
    "* `Cloud Bigtable:` A fast, fully managed, and a highly scalable NoSQL database service. It is designed for the collection and retention of data from 1 TB to hundreds of PB."
   ]
  },
  {
   "cell_type": "markdown",
   "id": "1dfdd29c",
   "metadata": {},
   "source": [
    "### Networking"
   ]
  },
  {
   "cell_type": "markdown",
   "id": "f04a2c42",
   "metadata": {},
   "source": [
    "* `VPC:` Virtual Private Cloud provides a private network with IP allocation, routing, and network firewall policies to create a secure environment for your deployments.\n",
    "\n",
    "\n",
    "* `Cloud Load Balancing:` It is a process of distributing workloads across multiple computing resources. This reduces the cost and maximizes the availability of the resources.\n",
    "\n",
    "\n",
    "* `Content Delivery Network:` A geographically distributed network of proxy servers and their data centers. The goal here is to provide high availability and high performance by spatially distributing the service relating to end users.\n"
   ]
  },
  {
   "cell_type": "markdown",
   "id": "436aef34",
   "metadata": {},
   "source": [
    "### Big Data"
   ]
  },
  {
   "cell_type": "markdown",
   "id": "15d959b1",
   "metadata": {},
   "source": [
    "* `BigQuery:` Google BigQuery Service is a fully managed data analysis service that enables businesses to analyze Big Data. It features highly scalable data storage, the ability to perform ad-hoc queries, and the ability to share data insights via the web.\n",
    "\n",
    "\n",
    "* `Google Cloud Datastore:` A fully managed, schema less, non-relational datastore. It supports atomic transactions and a rich set of query capabilities and can automatically scale up and down depending on the load.\n",
    "\n",
    "\n",
    "* `Google Cloud Dataproc:` A fast, easy-to-use and managed Spark and Hadoop service for distributed data processing. With Cloud Dataproc, you can create Spark or Hadoop clusters, sized for your workloads precisely when you need them."
   ]
  },
  {
   "cell_type": "markdown",
   "id": "fd520681",
   "metadata": {},
   "source": [
    "### Management Tools"
   ]
  },
  {
   "cell_type": "markdown",
   "id": "4e45c0ff",
   "metadata": {},
   "source": [
    "* `Google Stackdriver:` Provides performance and diagnostics data in the form of monitoring, logging, tracing, error reporting, and alerting it to public cloud users."
   ]
  },
  {
   "cell_type": "markdown",
   "id": "59f25f10",
   "metadata": {},
   "source": [
    "### Identity and Security"
   ]
  },
  {
   "cell_type": "markdown",
   "id": "561283fe",
   "metadata": {},
   "source": [
    "* `Cloud Data Loss Prevention API:`  It helps you manage sensitive data. It provides a fast and scalable classification for sensitive data elements like credit card numbers, names, passport numbers, and more.\n",
    "\n",
    "\n",
    "* `Cloud IAM:` Cloud Identity and Access Management refers to a framework of policies and technologies for ensuring that proper people in an enterprise have the appropriate access to technology resources. It is also called identity management (IdM)."
   ]
  },
  {
   "cell_type": "markdown",
   "id": "8afd7257",
   "metadata": {},
   "source": [
    "### Cloud Artificial Intelligence"
   ]
  },
  {
   "cell_type": "markdown",
   "id": "3a392db7",
   "metadata": {},
   "source": [
    "* `Cloud Machine Learning Engine:` A managed service that will enable you to build Machine Learning models based on mainstream frameworks.\n",
    "\n",
    "\n",
    "* `Cloud AutoML:` A Machine Learning product that enables developers to provide their data sets and obtain access to quality trained models by Google’s transfer learning and Neural Architecture Search.\n"
   ]
  },
  {
   "cell_type": "code",
   "execution_count": null,
   "id": "13031d91",
   "metadata": {},
   "outputs": [],
   "source": []
  }
 ],
 "metadata": {
  "kernelspec": {
   "display_name": "Python 3 (ipykernel)",
   "language": "python",
   "name": "python3"
  },
  "language_info": {
   "codemirror_mode": {
    "name": "ipython",
    "version": 3
   },
   "file_extension": ".py",
   "mimetype": "text/x-python",
   "name": "python",
   "nbconvert_exporter": "python",
   "pygments_lexer": "ipython3",
   "version": "3.9.7"
  }
 },
 "nbformat": 4,
 "nbformat_minor": 5
}
